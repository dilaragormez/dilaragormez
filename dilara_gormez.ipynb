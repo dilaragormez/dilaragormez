{
  "nbformat": 4,
  "nbformat_minor": 0,
  "metadata": {
    "colab": {
      "name": "dilara_gormez",
      "provenance": [],
      "authorship_tag": "ABX9TyOKzmQfrN5j5SEOVJ5KxGVq",
      "include_colab_link": true
    },
    "kernelspec": {
      "name": "python3",
      "display_name": "Python 3"
    }
  },
  "cells": [
    {
      "cell_type": "markdown",
      "metadata": {
        "id": "view-in-github",
        "colab_type": "text"
      },
      "source": [
        "<a href=\"https://colab.research.google.com/github/dilaragormez/dilaragormez/blob/master/dilara_gormez.ipynb\" target=\"_parent\"><img src=\"https://colab.research.google.com/assets/colab-badge.svg\" alt=\"Open In Colab\"/></a>"
      ]
    },
    {
      "cell_type": "markdown",
      "metadata": {
        "id": "YCU1f6FLr5lr",
        "colab_type": "text"
      },
      "source": [
        "Permütasyon "
      ]
    },
    {
      "cell_type": "code",
      "metadata": {
        "id": "PQ9vh_jBpHQI",
        "colab_type": "code",
        "outputId": "75a4ec9c-17e1-4b5a-f02c-30b2dff63697",
        "colab": {
          "base_uri": "https://localhost:8080/",
          "height": 85
        }
      },
      "source": [
        "def permutations(list):\n",
        "    #Listede eleman olup olmadiginin kontrolu\n",
        "    if len(list) == 0:\n",
        "        return []\n",
        "    #Listede 1 eleman varsa sonuc 1\n",
        "    if len(list) == 1:\n",
        "        return list\n",
        "\n",
        "    # Listede 1'den fazla eleman varsa permutasyonu bul\n",
        "    perm_list = [] # o anki permutasyonu tutan liste\n",
        "    for i in range(len(list)):\n",
        "       m = list[i]\n",
        "       sub_list = list[:i] + list[i+1:]\n",
        "       for p in permutations(sub_list):\n",
        "           perm_list.append(m + p)\n",
        "    return perm_list\n",
        "\n",
        "print(permutations(list('123')))\n",
        "print(\"\\t\")\n",
        "print(permutations(list('abc')))\n",
        "print(\"\\t\")"
      ],
      "execution_count": 0,
      "outputs": [
        {
          "output_type": "stream",
          "text": [
            "['123', '132', '213', '231', '312', '321']\n",
            "\t\n",
            "['abc', 'acb', 'bac', 'bca', 'cab', 'cba']\n",
            "\t\n"
          ],
          "name": "stdout"
        }
      ]
    },
    {
      "cell_type": "code",
      "metadata": {
        "id": "pOBiIl6lsKQD",
        "colab_type": "code",
        "colab": {}
      },
      "source": [
        ""
      ],
      "execution_count": 0,
      "outputs": []
    }
  ]
}