{
  "nbformat": 4,
  "nbformat_minor": 0,
  "metadata": {
    "colab": {
      "name": "dilara_gormez",
      "provenance": [],
      "authorship_tag": "ABX9TyPTBDsNEelkF37efHb2ie46",
      "include_colab_link": true
    },
    "kernelspec": {
      "name": "python3",
      "display_name": "Python 3"
    }
  },
  "cells": [
    {
      "cell_type": "markdown",
      "metadata": {
        "id": "view-in-github",
        "colab_type": "text"
      },
      "source": [
        "<a href=\"https://colab.research.google.com/github/dilaragormez/dilaragormez/blob/master/dilara_gormez.ipynb\" target=\"_parent\"><img src=\"https://colab.research.google.com/assets/colab-badge.svg\" alt=\"Open In Colab\"/></a>"
      ]
    },
    {
      "cell_type": "markdown",
      "metadata": {
        "id": "leG5jsObu5L0",
        "colab_type": "text"
      },
      "source": [
        "\n",
        "***Tekrarlı Permütasyon ***\n",
        "\n",
        "***Soru: ***\n",
        "\n",
        "\"KIRMIZIKELEBEK\" kelimesindeki harfler yer değiştirilerek anlamlı veya anlamsız 14 harfden oluşan kelimeler oluşturulacaktır. \n",
        "Oluşturulacak olan bu kelimelerin K ile başlayıp K ile bitme olasılığı kaçtır?\n",
        "\n",
        "**Çözüm:**\n",
        "\n",
        "İstenilen Durum: K ve K harflerinin çıkarılması\n",
        "\n",
        "P(A)= 12! / (3!*3!)\n",
        "\n",
        "Örnek Uzay: Tüm harflerin bulunması\n",
        "\n",
        "P(B)= 14! / (3!*3!*3!)\n",
        "\n",
        "Olasılık Sonucu:\n",
        "\n",
        "P(A)/P(B)\n",
        "\n",
        "**Açıklama:**\n",
        "\n",
        "Tekrarlı Permütasyon = N! / n1!n2!n3!....nn!\n",
        "\n",
        "Kelimelerin K harfi ile başlayıp K ile bitme durumu bu iki harfin çıkarılıp kalan 12 harfin tekrarlı permütasyonu hesaplanır. Daha sonra örnek uzay tüm harfleri kapsayacak şekilde hesaplanır. Soruda istenilen olasılık sonucu istenilen durumun  örnek uzaya bölünmesi ile bulunur."
      ]
    },
    {
      "cell_type": "code",
      "metadata": {
        "id": "PQ9vh_jBpHQI",
        "colab_type": "code",
        "outputId": "92ed543e-7e23-4a31-e6d6-6b3f4743dbd2",
        "colab": {
          "base_uri": "https://localhost:8080/",
          "height": 85
        }
      },
      "source": [
        "#P_Hesapla fonk. kendisine parametre olarak gönderilen sayının faktöriyelini rekursif şekilde hesaplar.\n",
        "def P_Hesapla(n):\n",
        "    if n==1:\n",
        "        return 1\n",
        "    else:\n",
        "        return n * P_Hesapla(n-1)\n",
        "\n",
        "permDurum= float(P_Hesapla(12)/(P_Hesapla(3)*P_Hesapla(3))) #İstenilen durum, K ve K harflerinin çıkarılması ile tekrarlı permütasyon şeklinde hesaplanır.\n",
        "\n",
        "permOrnekUzay= float(P_Hesapla(14)/(P_Hesapla(3)*P_Hesapla(3)*P_Hesapla(3))) #Örnek Uzay, tüm harflerle birlikte tekrarlı permütasyon şeklinde hesaplanır.\n",
        "\n",
        "olSonuc=float(permDurum/permOrnekUzay) #İstenilen durumun, Örnek Uzaya bölünmesi ile olasılık sonucu hesaplanır.\n",
        "\n",
        "print(\"İstenilen Durum: P(A)= 12! / (3!*3!)= \",permDurum)\n",
        "print(\"Örnek Uzay: P(B)= 14! / (3!*3!*3!)= \",permOrnekUzay)\n",
        "\n",
        "print(\"\\nOlasılık Sonucu: P(A)/P(B)= \", olSonuc)"
      ],
      "execution_count": 7,
      "outputs": [
        {
          "output_type": "stream",
          "text": [
            "İstenilen Durum: P(A)= 12! / (3!*3!)=  13305600.0\n",
            "Örnek Uzay: P(B)= 14! / (3!*3!*3!)=  403603200.0\n",
            "\n",
            "Olasılık Sonucu: P(A)/P(B)=  0.03296703296703297\n"
          ],
          "name": "stdout"
        }
      ]
    }
  ]
}