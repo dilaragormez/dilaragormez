{
  "nbformat": 4,
  "nbformat_minor": 0,
  "metadata": {
    "colab": {
      "name": "Ödev-2",
      "provenance": [],
      "authorship_tag": "ABX9TyM/APwH3tnhBHmuUdgr2Bky",
      "include_colab_link": true
    },
    "kernelspec": {
      "name": "python3",
      "display_name": "Python 3"
    }
  },
  "cells": [
    {
      "cell_type": "markdown",
      "metadata": {
        "id": "view-in-github",
        "colab_type": "text"
      },
      "source": [
        "<a href=\"https://colab.research.google.com/github/dilaragormez/dilaragormez/blob/master/%C3%96dev_2.ipynb\" target=\"_parent\"><img src=\"https://colab.research.google.com/assets/colab-badge.svg\" alt=\"Open In Colab\"/></a>"
      ]
    },
    {
      "cell_type": "markdown",
      "metadata": {
        "id": "n32n5YYBqv-H",
        "colab_type": "text"
      },
      "source": [
        "**Ödev-2 Karşılaşma Problemi**"
      ]
    },
    {
      "cell_type": "markdown",
      "metadata": {
        "id": "xjlKWAvXpCay",
        "colab_type": "text"
      },
      "source": [
        "**Soru:**\n",
        "Kocaeli Üniversitesi'nde Bilimsel Araştırma ve Yayın Etiği dersini veren  Beş öğretim görevlisi bulunmaktadır.  Her Öğretim görevlisinin 70 Öğrenci kotası vardır. Dersi alan 350 Öğrenciden 40'ı Bilgisayar Mühendisliği öğrencisidir. Bilgisayar mühendisliğinden dersi alan bir öğrencinin grubundan en az bir arkadaşının kendi bölümünden olma olasılığı nedir?"
      ]
    },
    {
      "cell_type": "markdown",
      "metadata": {
        "id": "Ms2ZL7_kq85X",
        "colab_type": "text"
      },
      "source": [
        "**Çözüm:**\n",
        "\n",
        "İstenilen Durum:Bir kişi belli 69 kişi seçilecek en az bir kişinin  Bilgisayar mühendisi olması istendiği için 1-Hiç bilgisayar Mühendisi olmama durumu bulunarak sonuca ulaşılır.\n",
        "\n",
        "Örnek Uzay: Bir kişi belli 349 kişiden 69 kişi seçilecek\n",
        "\n",
        "C(349,69)\n",
        "\n",
        "Olay Uzayı:Seçilen 69 kişinin bilgisayar mühendisi olmaması\n",
        "\n",
        "C(310,69)\n",
        "\n",
        "Olasılık Sonucu:\n",
        "\n",
        "1-(C(310,69)/C(349,69))\n",
        "\n"
      ]
    },
    {
      "cell_type": "code",
      "metadata": {
        "id": "oflPEHrCCJxv",
        "colab_type": "code",
        "outputId": "74bbf665-e580-415d-dc2b-39feb67c3a20",
        "colab": {
          "base_uri": "https://localhost:8080/",
          "height": 67
        }
      },
      "source": [
        "#F fonk. kendisine parametre olarak gönderilen sayının faktöriyelini rekursif şekilde hesaplar.\n",
        "def F(n):\n",
        "    if n==1:\n",
        "        return 1\n",
        "    else:\n",
        "        return n * F(n-1)\n",
        "# kombinasyon formülü n!/((n-r)!.r!)\n",
        "def C(n,r):  \n",
        "    return F(n)/(F(n-r)*F(r))\n",
        "\n",
        "\n",
        "# 1-(C(310,69)/C(349,69))\n",
        "Olayuzay=float(C(310,69)) #Hiç bilgisayar mühendisi olmama durumu.\n",
        "\n",
        "OrnekUzay=float(C(349,69)) #1 Kişi belli 69 kişi seçilecek\n",
        "\n",
        "olSonuc=float(1-(Olayuzay/OrnekUzay)) \n",
        "\n",
        "print(\"Olay Uzay = (C(310,69))= \",Olayuzay)\n",
        "print(\"Örnek Uzay= (C(349,69))= \",OrnekUzay)\n",
        "print(\"Olasılık  = (1-(Olayuzay/OrnekUzay))= \",olSonuc)\n"
      ],
      "execution_count": 0,
      "outputs": [
        {
          "output_type": "stream",
          "text": [
            "Olay Uzay = (C(310,69))=  1.2913099029634967e+70\n",
            "Örnek Uzay= (C(349,69))=  1.2302889665662705e+74\n",
            "Olasılık  = (1-(Olayuzay/OrnekUzay))=  0.9998950401134973\n"
          ],
          "name": "stdout"
        }
      ]
    }
  ]
}