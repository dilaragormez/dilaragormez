{
  "nbformat": 4,
  "nbformat_minor": 0,
  "metadata": {
    "colab": {
      "name": "KoşulluOlasılık",
      "provenance": [],
      "authorship_tag": "ABX9TyPl8E6Eou6QkkJSxkWQPabQ",
      "include_colab_link": true
    },
    "kernelspec": {
      "name": "python3",
      "display_name": "Python 3"
    }
  },
  "cells": [
    {
      "cell_type": "markdown",
      "metadata": {
        "id": "view-in-github",
        "colab_type": "text"
      },
      "source": [
        "<a href=\"https://colab.research.google.com/github/dilaragormez/dilaragormez/blob/master/Ko%C5%9FulluOlas%C4%B1l%C4%B1k.ipynb\" target=\"_parent\"><img src=\"https://colab.research.google.com/assets/colab-badge.svg\" alt=\"Open In Colab\"/></a>"
      ]
    },
    {
      "cell_type": "markdown",
      "metadata": {
        "id": "g8-TUadspese",
        "colab_type": "text"
      },
      "source": [
        "**Problem:**  Bir yarışma programında olduğunuzu ve üç kapıdan birini seçme hakkınız olduğunu varsayalım. Kapılardan birinin ardında bir araba, diğerlerinin ardında ise keçiler var. Kapılardan birini, diyelim ki 1'inciyi seçiyorsunuz ve kapıların ardında ne olduğunu bilen sunucu, diğer kapılardan birini, diyelim ki ardında keçi olan 3'üncüyü açıyor. Daha sonra size soruyor: \"2. kapıyı seçmek ister misiniz?\" Seçiminizi değiştirmek sizin yararınıza mıdır? \n",
        "\n",
        "**A**: Arabanın bulunduğu kapının numarası,\n",
        "**Y**: Yarışmacının seçtiği kapı\n",
        "**H**:Host'un (Sunucunun) açtığı kapı.\n",
        "\n",
        "Araba kapıların arkasına rastgele yerleştirildiğinden, bütün A değerleri için şartlar eşittir. Buna göre A'nın başlangıç (koşulsuz) olasılığı\n",
        "**P(A)=1/3**\n",
        "\n",
        "Ayrıca, yarışmacının başlangıçtaki seçimi arabanın konulmasından bağımsız olduğundan, A ve Y değişkenleri bağımsızdır. Dolayısıyla bir Y değeri için A'nın koşullu olasılığı:\n",
        "**P(A|Y)=P(A)**\n",
        "\n",
        "Sunucunun seçimi A ve Y değerlerine göre H'nin koşullu olasılığı ile gösterilir:\n",
        "**P(H|A,Y)=**\n",
        "\n",
        "0 \teğer H = Y, (sunucu yarışmacının seçtiği kapıyı açamaz)\n",
        "\n",
        "0\t  eğer H = A, (sunucu arabanın bulunduğu kapıyı açamaz)\n",
        "\n",
        "1/2\teğer Y = A,(arkasında araba olmayan kapıların açılması eşit ihtimallidir)\n",
        "\n",
        "1   eğer H =!A ve Y=! A, (açılabilecek sadece bir kapı vardır)\n",
        "\n",
        "\n",
        "Sunucu kapılardan birini açtıktan sonra, yarışmacı Bayes kuralını kullanarak kapıların herhangi biri arkasında arabanın bulunması olasılığını hesaplayabilir. Değer, seçilen H ve Y değerlerine bağlı A'nın koşullu olasılığıdır:\n",
        "\n",
        "![alt text](https://wikimedia.org/api/rest_v1/media/math/render/svg/281957d7e10ce8aa22ba1ead2053cbf720407551)\n",
        "\n",
        "![alt text](https://wikimedia.org/api/rest_v1/media/math/render/svg/f13cd82b4ef50b7f42408a9b49229d768018477f)\n",
        "\n",
        "Şimdi eğer yarışmacı 1. kapıyı seçer ve sunucu 3. kapıyı açarsa, seçilen kapının değiştirilmesi halinde kazanma olasılığını hesaplayalım:\n",
        "**P(A=2|Y=1,H=3)**\n",
        "\n",
        "\n",
        "\n"
      ]
    },
    {
      "cell_type": "code",
      "metadata": {
        "id": "A4lNga6825S6",
        "colab_type": "code",
        "colab": {
          "base_uri": "https://localhost:8080/",
          "height": 34
        },
        "outputId": "fc64dcbd-30cf-40f9-a910-093c32735efd"
      },
      "source": [
        "# P(A|B)=P(B|A).P(A) / P(B)\n",
        "\n",
        " #P(H|A,Y)=1\n",
        " P_B_A=1\n",
        " #P(A|Y)=1/3\n",
        " P_A=1/3 \n",
        " #P(H|Y)\n",
        " P_B=(1/2*1/3)+(1*1/3)+(0*1/3) \n",
        " \n",
        " P_A_B=(P_B_A * P_A)/P_B\n",
        "\n",
        "print('P(A=2|Y=1,H=3)  = ',(P_A_B))\n"
      ],
      "execution_count": 6,
      "outputs": [
        {
          "output_type": "stream",
          "text": [
            "P(A=2|Y=1,H=3)  =  0.6666666666666666\n"
          ],
          "name": "stdout"
        }
      ]
    }
  ]
}