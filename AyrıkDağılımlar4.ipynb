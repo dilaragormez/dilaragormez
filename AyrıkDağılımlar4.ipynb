{
  "nbformat": 4,
  "nbformat_minor": 0,
  "metadata": {
    "colab": {
      "name": "AyrıkDağılımlar4.ipynb",
      "provenance": [],
      "authorship_tag": "ABX9TyPnNzkTRL1NuXJMmi1Nl7bx",
      "include_colab_link": true
    },
    "kernelspec": {
      "name": "python3",
      "display_name": "Python 3"
    }
  },
  "cells": [
    {
      "cell_type": "markdown",
      "metadata": {
        "id": "view-in-github",
        "colab_type": "text"
      },
      "source": [
        "<a href=\"https://colab.research.google.com/github/dilaragormez/dilaragormez/blob/master/Ayr%C4%B1kDa%C4%9F%C4%B1l%C4%B1mlar4.ipynb\" target=\"_parent\"><img src=\"https://colab.research.google.com/assets/colab-badge.svg\" alt=\"Open In Colab\"/></a>"
      ]
    },
    {
      "cell_type": "markdown",
      "metadata": {
        "id": "tc1ANFX3E-eJ",
        "colab_type": "text"
      },
      "source": [
        "**Binom Dağılımı**\n",
        "\n",
        "İlaç üreten bir firma ürettiği ilaçları ambalajlayarak satışa sunmaktadır.\n",
        "Ambalajlanan ilaç paketlerinin %10’unun istenen standarda uymadığı bilinmektedir. Bu\n",
        "ambalajlanmış ilaç paketlerinden 5 tanesi yerine koyularak rasgele olarak seçildiğinde,\n",
        "\n",
        "Sadece 2’sinin ambalajının istenilen standarda uygun olması olasılığı nedir?\n"
      ]
    },
    {
      "cell_type": "code",
      "metadata": {
        "id": "KApzHWbVbThT",
        "colab_type": "code",
        "colab": {
          "base_uri": "https://localhost:8080/",
          "height": 185
        },
        "outputId": "06bdb4e2-fe0b-469a-a96c-d0695a7a60a3"
      },
      "source": [
        "def F(i): #Faktöriyel\n",
        "    if i==1:       \n",
        "        return 1\n",
        "    else: \n",
        "        return i * Faktoriyel(i-1)\n",
        "\n",
        "def C(n,r): #kombinasyon\n",
        "    return int(F(n)/(F(n-r)*F(r)))\n",
        "\n",
        "def binom(p, n, x):\n",
        "  binom = C(n,x) * pow((p),(x)) * pow((1-p),(n-x))\n",
        "  return binom\n",
        "\n",
        "\n",
        "print('n Ambalajda x standarda uygun ilaç olma olasılığını hesaplamak için lütfen;.')\n",
        "p = 0.9\n",
        "q = 1-p\n",
        "n = float(input('\\nn değerini giriniz:\\n'))\n",
        "x = float(input('\\nx değerini giriniz:\\n'))\n",
        "\n",
        "print('\\nOlasılık Dağılım Fonksiyonu:\\nP(X={0}) = {1}'.format(x, binom(p, n, x)))\n"
      ],
      "execution_count": 9,
      "outputs": [
        {
          "output_type": "stream",
          "text": [
            "n Ambalajda x standarda uygun ilaç olma olasılığını hesaplamak için lütfen;.\n",
            "\n",
            "n değerini giriniz:\n",
            "5\n",
            "\n",
            "x değerini giriniz:\n",
            "2\n",
            "\n",
            "Olasılık Dağılım Fonksiyonu:\n",
            "P(X=2.0) = 0.008099999999999996\n"
          ],
          "name": "stdout"
        }
      ]
    },
    {
      "cell_type": "markdown",
      "metadata": {
        "id": "VqxN8WvjWAYM",
        "colab_type": "text"
      },
      "source": [
        "**Geometrik Dağılım**\n",
        "\n",
        "Bir torbada 8 beyaz, 4 siyah top bulunmaktadır. Her defasında yerine konularak\n",
        "bir top çekiliyor.\n",
        "Beyaz topun ilk defa 5’inci çekilişte çıkma olasılığı nedir?\n"
      ]
    },
    {
      "cell_type": "code",
      "metadata": {
        "id": "X0bfawbuaKKA",
        "colab_type": "code",
        "colab": {
          "base_uri": "https://localhost:8080/",
          "height": 50
        },
        "outputId": "4b7026dd-e547-4dcf-b6b3-7df0d293abd0"
      },
      "source": [
        " \n",
        "x = int(input(\"Tekrar sayısı : \"))               \n",
        "p=2/3            # Tek bir işlem için başarma olasılığı\n",
        "\n",
        "\n",
        "print(\"Sonuç:\", (p*pow((1-p),(x-1))))"
      ],
      "execution_count": 15,
      "outputs": [
        {
          "output_type": "stream",
          "text": [
            "Tekrar sayısı : 5\n",
            "Sonuç: 0.008230452674897124\n"
          ],
          "name": "stdout"
        }
      ]
    }
  ]
}